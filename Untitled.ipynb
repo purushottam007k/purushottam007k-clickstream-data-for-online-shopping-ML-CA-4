{
 "cells": [
  {
   "cell_type": "code",
   "execution_count": 14,
   "metadata": {},
   "outputs": [
    {
     "data": {
      "text/html": [
       "<div>\n",
       "<style scoped>\n",
       "    .dataframe tbody tr th:only-of-type {\n",
       "        vertical-align: middle;\n",
       "    }\n",
       "\n",
       "    .dataframe tbody tr th {\n",
       "        vertical-align: top;\n",
       "    }\n",
       "\n",
       "    .dataframe thead th {\n",
       "        text-align: right;\n",
       "    }\n",
       "</style>\n",
       "<table border=\"1\" class=\"dataframe\">\n",
       "  <thead>\n",
       "    <tr style=\"text-align: right;\">\n",
       "      <th></th>\n",
       "      <th>year;month;day;order;country;session ID;page 1 (main category);page 2 (clothing model);colour;location;model photography;price;price 2;page</th>\n",
       "    </tr>\n",
       "  </thead>\n",
       "  <tbody>\n",
       "    <tr>\n",
       "      <th>165469</th>\n",
       "      <td>2008;8;13;1;29;24024;2;B10;2;4;1;67;1;1</td>\n",
       "    </tr>\n",
       "    <tr>\n",
       "      <th>165470</th>\n",
       "      <td>2008;8;13;1;9;24025;1;A11;3;4;1;62;1;1</td>\n",
       "    </tr>\n",
       "    <tr>\n",
       "      <th>165471</th>\n",
       "      <td>2008;8;13;1;34;24026;1;A2;3;1;1;43;2;1</td>\n",
       "    </tr>\n",
       "    <tr>\n",
       "      <th>165472</th>\n",
       "      <td>2008;8;13;2;34;24026;3;C2;12;1;1;43;1;1</td>\n",
       "    </tr>\n",
       "    <tr>\n",
       "      <th>165473</th>\n",
       "      <td>2008;8;13;3;34;24026;2;B2;3;1;2;57;1;1</td>\n",
       "    </tr>\n",
       "  </tbody>\n",
       "</table>\n",
       "</div>"
      ],
      "text/plain": [
       "       year;month;day;order;country;session ID;page 1 (main category);page 2 (clothing model);colour;location;model photography;price;price 2;page\n",
       "165469            2008;8;13;1;29;24024;2;B10;2;4;1;67;1;1                                                                                         \n",
       "165470             2008;8;13;1;9;24025;1;A11;3;4;1;62;1;1                                                                                         \n",
       "165471             2008;8;13;1;34;24026;1;A2;3;1;1;43;2;1                                                                                         \n",
       "165472            2008;8;13;2;34;24026;3;C2;12;1;1;43;1;1                                                                                         \n",
       "165473             2008;8;13;3;34;24026;2;B2;3;1;2;57;1;1                                                                                         "
      ]
     },
     "execution_count": 14,
     "metadata": {},
     "output_type": "execute_result"
    }
   ],
   "source": [
    "import pandas as pd\n",
    "dataset = pd.read_csv(\"e-shop clothing 2008.csv\")\n",
    "dataset.tail()"
   ]
  },
  {
   "cell_type": "code",
   "execution_count": 7,
   "metadata": {},
   "outputs": [
    {
     "name": "stdout",
     "output_type": "stream",
     "text": [
      "Sum of NULL values in each column. \n",
      "0    0\n",
      "dtype: int64\n"
     ]
    }
   ],
   "source": [
    "import pandas as pd\n",
    "from sklearn.model_selection import train_test_split\n",
    "from sklearn.ensemble import RandomForestClassifier\n",
    "from sklearn.preprocessing import LabelEncoder\n",
    "from sklearn.metrics import confusion_matrix\n",
    "from sklearn.metrics import accuracy_score\n",
    "from sklearn.metrics import classification_report\n",
    "  \n",
    "#Importing the dataset\n",
    "dataset = pd.read_csv(\n",
    "          'https://archive.ics.uci.edu/ml/machine-learning-'+\n",
    "          'databases/iris/iris.data',sep= ',', header= None)\n",
    "data = dataset.iloc[:, :]\n",
    "  \n",
    "#checking for null values\n",
    "print(\"Sum of NULL values in each column. \")\n",
    "print(data.isnull().sum())\n",
    "#seperating the predicting column from the whole dataset\n",
    "X = data.iloc[:, :-1].values\n",
    "y = dataset.iloc[:, 4].values\n",
    "  \n",
    "#Encoding the predicting variable\n",
    "labelencoder_y = LabelEncoder()\n",
    "y = labelencoder_y.fit_transform(y)\n",
    "  \n",
    "#Splitting the data into test and train dataset\n",
    "X_train, X_test, y_train, y_test = train_test_split(\n",
    "              X, y, test_size = 0.3, random_state = 0)\n",
    "  \n",
    "#Using the random forest classifier for the prediction\n",
    "classifier=RandomForestClassifier()\n",
    "classifier=classifier.fit(X_train,y_train)\n",
    "predicted=classifier.predict(X_test)\n",
    "#printing the results\n",
    "print ('Confusion Matrix :')\n",
    "print(confusion_matrix(y_test, predicted))\n",
    "print ('Accuracy Score :',accuracy_score(y_test, predicted))\n",
    "print ('Report : ')\n",
    "print (classification_report(y_test, predicted))"
   ]
  }
 ],
 "metadata": {
  "kernelspec": {
   "display_name": "Python 3",
   "language": "python",
   "name": "python3"
  },
  "language_info": {
   "codemirror_mode": {
    "name": "ipython",
    "version": 3
   },
   "file_extension": ".py",
   "mimetype": "text/x-python",
   "name": "python",
   "nbconvert_exporter": "python",
   "pygments_lexer": "ipython3",
   "version": "3.8.5"
  }
 },
 "nbformat": 4,
 "nbformat_minor": 4
}
